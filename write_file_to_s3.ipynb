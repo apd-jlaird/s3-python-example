{
 "cells": [
  {
   "cell_type": "code",
   "execution_count": 3,
   "metadata": {},
   "outputs": [],
   "source": [
    "import boto3\n",
    "import os"
   ]
  },
  {
   "cell_type": "code",
   "execution_count": 4,
   "metadata": {},
   "outputs": [],
   "source": [
    "def write_file_to_s3(local_file_path, s3_bucket_name):\n",
    "    # create an S3 client\n",
    "    s3 = boto3.client('s3')\n",
    "\n",
    "    # get the file name from the local file path\n",
    "    s3_object_key = os.path.basename(local_file_path)\n",
    "\n",
    "    # upload the file to S3\n",
    "    try:\n",
    "        s3.upload_file(local_file_path, s3_bucket_name, s3_object_key)\n",
    "        print(f'{s3_object_key} was written successfully to S3')\n",
    "    except:\n",
    "        print(f'{s3_object_key} was not written successfully to S3')"
   ]
  },
  {
   "cell_type": "code",
   "execution_count": 5,
   "metadata": {},
   "outputs": [
    {
     "name": "stdout",
     "output_type": "stream",
     "text": [
      "AQC00914000.csv was written successfully to S3\n"
     ]
    }
   ],
   "source": [
    "# example usage\n",
    "local_file_path = 'data/AQC00914000.csv'\n",
    "s3_bucket_name = 'aimpoint-hackathon-data-hub'\n",
    "\n",
    "write_file_to_s3(local_file_path, s3_bucket_name)"
   ]
  }
 ],
 "metadata": {
  "kernelspec": {
   "display_name": ".venv",
   "language": "python",
   "name": "python3"
  },
  "language_info": {
   "codemirror_mode": {
    "name": "ipython",
    "version": 3
   },
   "file_extension": ".py",
   "mimetype": "text/x-python",
   "name": "python",
   "nbconvert_exporter": "python",
   "pygments_lexer": "ipython3",
   "version": "3.10.6"
  },
  "orig_nbformat": 4
 },
 "nbformat": 4,
 "nbformat_minor": 2
}
