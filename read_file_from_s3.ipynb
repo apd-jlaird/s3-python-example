{
 "cells": [
  {
   "cell_type": "code",
   "execution_count": 1,
   "metadata": {},
   "outputs": [],
   "source": [
    "import boto3\n",
    "import os"
   ]
  },
  {
   "cell_type": "code",
   "execution_count": 10,
   "metadata": {},
   "outputs": [],
   "source": [
    "def read_file_from_s3(s3_bucket_name, s3_object_key, local_directory):\n",
    "    # create an S3 client\n",
    "    s3 = boto3.client('s3')\n",
    "\n",
    "    # get the file from S3\n",
    "    response = s3.get_object(Bucket=s3_bucket_name, Key=s3_object_key)\n",
    "\n",
    "    # construct the local file path\n",
    "    local_file_path = os.path.join(local_directory, s3_object_key)\n",
    "\n",
    "    # write the file to the local directory\n",
    "    try:\n",
    "        with open(local_file_path, 'wb') as f:\n",
    "            f.write(response['Body'].read())\n",
    "        print(f'{s3_object_key} was successfully read from S3 and saved to {local_directory}/{s3_object_key}')\n",
    "    except:\n",
    "        print({f'{s3_object_key} was not successfully read from S3'})"
   ]
  },
  {
   "cell_type": "code",
   "execution_count": 11,
   "metadata": {},
   "outputs": [
    {
     "name": "stdout",
     "output_type": "stream",
     "text": [
      "AQC00914000.csv was successfully read from S3 and saved to ./data/downloads/AQC00914000.csv\n"
     ]
    }
   ],
   "source": [
    "# example usage\n",
    "s3_bucket_name = 'aimpoint-hackathon-data-hub'\n",
    "s3_object_key = 'AQC00914000.csv'\n",
    "local_directory = './data/downloads'\n",
    "\n",
    "local_file_path = read_file_from_s3(s3_bucket_name, s3_object_key, local_directory)"
   ]
  }
 ],
 "metadata": {
  "kernelspec": {
   "display_name": ".venv",
   "language": "python",
   "name": "python3"
  },
  "language_info": {
   "codemirror_mode": {
    "name": "ipython",
    "version": 3
   },
   "file_extension": ".py",
   "mimetype": "text/x-python",
   "name": "python",
   "nbconvert_exporter": "python",
   "pygments_lexer": "ipython3",
   "version": "3.10.6"
  },
  "orig_nbformat": 4
 },
 "nbformat": 4,
 "nbformat_minor": 2
}
